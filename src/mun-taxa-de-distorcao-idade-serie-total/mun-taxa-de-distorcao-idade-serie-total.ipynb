{
 "cells": [
  {
   "cell_type": "markdown",
   "metadata": {},
   "source": [
    "# Mapa das escolar do RS por taxa de distorção de série"
   ]
  },
  {
   "cell_type": "code",
   "execution_count": 1,
   "metadata": {},
   "outputs": [],
   "source": [
    "import pandas as pd\n",
    "%matplotlib inline\n",
    "import folium\n",
    "from jupyterthemes import jtplot\n",
    "\n",
    "# choose which theme to inherit plotting style from\n",
    "# onedork | grade3 | oceans16 | chesterish | monokai | solarizedl | solarizedd\n",
    "jtplot.style(theme='onedork')"
   ]
  },
  {
   "cell_type": "code",
   "execution_count": 2,
   "metadata": {},
   "outputs": [
    {
     "data": {
      "text/html": [
       "<div>\n",
       "<style scoped>\n",
       "    .dataframe tbody tr th:only-of-type {\n",
       "        vertical-align: middle;\n",
       "    }\n",
       "\n",
       "    .dataframe tbody tr th {\n",
       "        vertical-align: top;\n",
       "    }\n",
       "\n",
       "    .dataframe thead th {\n",
       "        text-align: right;\n",
       "    }\n",
       "</style>\n",
       "<table border=\"1\" class=\"dataframe\">\n",
       "  <thead>\n",
       "    <tr style=\"text-align: right;\">\n",
       "      <th></th>\n",
       "      <th>Município</th>\n",
       "      <th>ibge</th>\n",
       "      <th>latitude</th>\n",
       "      <th>longitude</th>\n",
       "      <th>/Educação/Ens...de Série/Total 2013 (-)</th>\n",
       "    </tr>\n",
       "  </thead>\n",
       "  <tbody>\n",
       "    <tr>\n",
       "      <td>0</td>\n",
       "      <td>Aceguá</td>\n",
       "      <td>4300034</td>\n",
       "      <td>-31.86076</td>\n",
       "      <td>-54.16706</td>\n",
       "      <td>25,7</td>\n",
       "    </tr>\n",
       "    <tr>\n",
       "      <td>1</td>\n",
       "      <td>Água Santa</td>\n",
       "      <td>4300059</td>\n",
       "      <td>-28.16720</td>\n",
       "      <td>-52.03100</td>\n",
       "      <td>14,7</td>\n",
       "    </tr>\n",
       "    <tr>\n",
       "      <td>2</td>\n",
       "      <td>Agudo</td>\n",
       "      <td>4300109</td>\n",
       "      <td>-29.64470</td>\n",
       "      <td>-53.25150</td>\n",
       "      <td>26,4</td>\n",
       "    </tr>\n",
       "    <tr>\n",
       "      <td>3</td>\n",
       "      <td>Ajuricaba</td>\n",
       "      <td>4300208</td>\n",
       "      <td>-28.23420</td>\n",
       "      <td>-53.77570</td>\n",
       "      <td>24,1</td>\n",
       "    </tr>\n",
       "    <tr>\n",
       "      <td>4</td>\n",
       "      <td>Alecrim</td>\n",
       "      <td>4300307</td>\n",
       "      <td>-27.65790</td>\n",
       "      <td>-54.76490</td>\n",
       "      <td>18,9</td>\n",
       "    </tr>\n",
       "  </tbody>\n",
       "</table>\n",
       "</div>"
      ],
      "text/plain": [
       "    Município     ibge  latitude  longitude  \\\n",
       "0      Aceguá  4300034 -31.86076  -54.16706   \n",
       "1  Água Santa  4300059 -28.16720  -52.03100   \n",
       "2       Agudo  4300109 -29.64470  -53.25150   \n",
       "3   Ajuricaba  4300208 -28.23420  -53.77570   \n",
       "4     Alecrim  4300307 -27.65790  -54.76490   \n",
       "\n",
       "  /Educação/Ens...de Série/Total 2013 (-)  \n",
       "0                                    25,7  \n",
       "1                                    14,7  \n",
       "2                                    26,4  \n",
       "3                                    24,1  \n",
       "4                                    18,9  "
      ]
     },
     "execution_count": 2,
     "metadata": {},
     "output_type": "execute_result"
    }
   ],
   "source": [
    "df = pd.read_csv('mun-taxa-de-distorcao-idade-serie-total.csv',\n",
    "                 encoding='latin1', skiprows=1)\n",
    "df.head()"
   ]
  },
  {
   "cell_type": "code",
   "execution_count": 3,
   "metadata": {},
   "outputs": [
    {
     "data": {
      "text/html": [
       "<div>\n",
       "<style scoped>\n",
       "    .dataframe tbody tr th:only-of-type {\n",
       "        vertical-align: middle;\n",
       "    }\n",
       "\n",
       "    .dataframe tbody tr th {\n",
       "        vertical-align: top;\n",
       "    }\n",
       "\n",
       "    .dataframe thead th {\n",
       "        text-align: right;\n",
       "    }\n",
       "</style>\n",
       "<table border=\"1\" class=\"dataframe\">\n",
       "  <thead>\n",
       "    <tr style=\"text-align: right;\">\n",
       "      <th></th>\n",
       "      <th>Município</th>\n",
       "      <th>ibge</th>\n",
       "      <th>latitude</th>\n",
       "      <th>longitude</th>\n",
       "      <th>tx_distorcao</th>\n",
       "    </tr>\n",
       "  </thead>\n",
       "  <tbody>\n",
       "    <tr>\n",
       "      <td>0</td>\n",
       "      <td>Aceguá</td>\n",
       "      <td>4300034</td>\n",
       "      <td>-31.86076</td>\n",
       "      <td>-54.16706</td>\n",
       "      <td>25,7</td>\n",
       "    </tr>\n",
       "    <tr>\n",
       "      <td>1</td>\n",
       "      <td>Água Santa</td>\n",
       "      <td>4300059</td>\n",
       "      <td>-28.16720</td>\n",
       "      <td>-52.03100</td>\n",
       "      <td>14,7</td>\n",
       "    </tr>\n",
       "    <tr>\n",
       "      <td>2</td>\n",
       "      <td>Agudo</td>\n",
       "      <td>4300109</td>\n",
       "      <td>-29.64470</td>\n",
       "      <td>-53.25150</td>\n",
       "      <td>26,4</td>\n",
       "    </tr>\n",
       "    <tr>\n",
       "      <td>3</td>\n",
       "      <td>Ajuricaba</td>\n",
       "      <td>4300208</td>\n",
       "      <td>-28.23420</td>\n",
       "      <td>-53.77570</td>\n",
       "      <td>24,1</td>\n",
       "    </tr>\n",
       "    <tr>\n",
       "      <td>4</td>\n",
       "      <td>Alecrim</td>\n",
       "      <td>4300307</td>\n",
       "      <td>-27.65790</td>\n",
       "      <td>-54.76490</td>\n",
       "      <td>18,9</td>\n",
       "    </tr>\n",
       "  </tbody>\n",
       "</table>\n",
       "</div>"
      ],
      "text/plain": [
       "    Município     ibge  latitude  longitude tx_distorcao\n",
       "0      Aceguá  4300034 -31.86076  -54.16706         25,7\n",
       "1  Água Santa  4300059 -28.16720  -52.03100         14,7\n",
       "2       Agudo  4300109 -29.64470  -53.25150         26,4\n",
       "3   Ajuricaba  4300208 -28.23420  -53.77570         24,1\n",
       "4     Alecrim  4300307 -27.65790  -54.76490         18,9"
      ]
     },
     "execution_count": 3,
     "metadata": {},
     "output_type": "execute_result"
    }
   ],
   "source": [
    "df.rename(columns={'/Educação/Ens...de Série/Total 2013 (-)': 'tx_distorcao'}, inplace=True)\n",
    "df.head()"
   ]
  },
  {
   "cell_type": "code",
   "execution_count": 4,
   "metadata": {},
   "outputs": [
    {
     "name": "stdout",
     "output_type": "stream",
     "text": [
      "<class 'pandas.core.frame.DataFrame'>\n",
      "RangeIndex: 495 entries, 0 to 494\n",
      "Data columns (total 5 columns):\n",
      "Município       495 non-null object\n",
      "ibge            495 non-null int64\n",
      "latitude        495 non-null float64\n",
      "longitude       495 non-null float64\n",
      "tx_distorcao    495 non-null object\n",
      "dtypes: float64(2), int64(1), object(2)\n",
      "memory usage: 19.5+ KB\n"
     ]
    }
   ],
   "source": [
    "df.info()"
   ]
  },
  {
   "cell_type": "markdown",
   "metadata": {},
   "source": [
    "### Converte tx_distorcao para float"
   ]
  },
  {
   "cell_type": "code",
   "execution_count": 5,
   "metadata": {},
   "outputs": [
    {
     "data": {
      "text/html": [
       "<div>\n",
       "<style scoped>\n",
       "    .dataframe tbody tr th:only-of-type {\n",
       "        vertical-align: middle;\n",
       "    }\n",
       "\n",
       "    .dataframe tbody tr th {\n",
       "        vertical-align: top;\n",
       "    }\n",
       "\n",
       "    .dataframe thead th {\n",
       "        text-align: right;\n",
       "    }\n",
       "</style>\n",
       "<table border=\"1\" class=\"dataframe\">\n",
       "  <thead>\n",
       "    <tr style=\"text-align: right;\">\n",
       "      <th></th>\n",
       "      <th>Município</th>\n",
       "      <th>ibge</th>\n",
       "      <th>latitude</th>\n",
       "      <th>longitude</th>\n",
       "      <th>tx_distorcao</th>\n",
       "    </tr>\n",
       "  </thead>\n",
       "  <tbody>\n",
       "    <tr>\n",
       "      <td>0</td>\n",
       "      <td>Aceguá</td>\n",
       "      <td>4300034</td>\n",
       "      <td>-31.86076</td>\n",
       "      <td>-54.16706</td>\n",
       "      <td>25.7</td>\n",
       "    </tr>\n",
       "    <tr>\n",
       "      <td>1</td>\n",
       "      <td>Água Santa</td>\n",
       "      <td>4300059</td>\n",
       "      <td>-28.16720</td>\n",
       "      <td>-52.03100</td>\n",
       "      <td>14.7</td>\n",
       "    </tr>\n",
       "    <tr>\n",
       "      <td>2</td>\n",
       "      <td>Agudo</td>\n",
       "      <td>4300109</td>\n",
       "      <td>-29.64470</td>\n",
       "      <td>-53.25150</td>\n",
       "      <td>26.4</td>\n",
       "    </tr>\n",
       "    <tr>\n",
       "      <td>3</td>\n",
       "      <td>Ajuricaba</td>\n",
       "      <td>4300208</td>\n",
       "      <td>-28.23420</td>\n",
       "      <td>-53.77570</td>\n",
       "      <td>24.1</td>\n",
       "    </tr>\n",
       "    <tr>\n",
       "      <td>4</td>\n",
       "      <td>Alecrim</td>\n",
       "      <td>4300307</td>\n",
       "      <td>-27.65790</td>\n",
       "      <td>-54.76490</td>\n",
       "      <td>18.9</td>\n",
       "    </tr>\n",
       "  </tbody>\n",
       "</table>\n",
       "</div>"
      ],
      "text/plain": [
       "    Município     ibge  latitude  longitude tx_distorcao\n",
       "0      Aceguá  4300034 -31.86076  -54.16706         25.7\n",
       "1  Água Santa  4300059 -28.16720  -52.03100         14.7\n",
       "2       Agudo  4300109 -29.64470  -53.25150         26.4\n",
       "3   Ajuricaba  4300208 -28.23420  -53.77570         24.1\n",
       "4     Alecrim  4300307 -27.65790  -54.76490         18.9"
      ]
     },
     "execution_count": 5,
     "metadata": {},
     "output_type": "execute_result"
    }
   ],
   "source": [
    "# Troca vírgula por ponto\n",
    "df['tx_distorcao'] = df['tx_distorcao'].str.replace(',', '.')\n",
    "df.head()"
   ]
  },
  {
   "cell_type": "code",
   "execution_count": 6,
   "metadata": {},
   "outputs": [
    {
     "name": "stdout",
     "output_type": "stream",
     "text": [
      "<class 'pandas.core.frame.DataFrame'>\n",
      "RangeIndex: 495 entries, 0 to 494\n",
      "Data columns (total 5 columns):\n",
      "Município       495 non-null object\n",
      "ibge            495 non-null int64\n",
      "latitude        495 non-null float64\n",
      "longitude       495 non-null float64\n",
      "tx_distorcao    495 non-null float64\n",
      "dtypes: float64(3), int64(1), object(1)\n",
      "memory usage: 19.5+ KB\n"
     ]
    }
   ],
   "source": [
    "# Realiza conversão de tx_distorcao para float\n",
    "df['tx_distorcao'] = df['tx_distorcao'].astype(float)\n",
    "df.info()"
   ]
  },
  {
   "cell_type": "code",
   "execution_count": 7,
   "metadata": {},
   "outputs": [
    {
     "data": {
      "text/html": [
       "<div>\n",
       "<style scoped>\n",
       "    .dataframe tbody tr th:only-of-type {\n",
       "        vertical-align: middle;\n",
       "    }\n",
       "\n",
       "    .dataframe tbody tr th {\n",
       "        vertical-align: top;\n",
       "    }\n",
       "\n",
       "    .dataframe thead th {\n",
       "        text-align: right;\n",
       "    }\n",
       "</style>\n",
       "<table border=\"1\" class=\"dataframe\">\n",
       "  <thead>\n",
       "    <tr style=\"text-align: right;\">\n",
       "      <th></th>\n",
       "      <th>Município</th>\n",
       "      <th>ibge</th>\n",
       "      <th>latitude</th>\n",
       "      <th>longitude</th>\n",
       "      <th>tx_distorcao</th>\n",
       "    </tr>\n",
       "  </thead>\n",
       "  <tbody>\n",
       "    <tr>\n",
       "      <td>490</td>\n",
       "      <td>Vista Alegre do Prata</td>\n",
       "      <td>4323606</td>\n",
       "      <td>-28.8052</td>\n",
       "      <td>-51.7946</td>\n",
       "      <td>2.6</td>\n",
       "    </tr>\n",
       "    <tr>\n",
       "      <td>375</td>\n",
       "      <td>Santo Antônio do Palma</td>\n",
       "      <td>4317558</td>\n",
       "      <td>-28.4956</td>\n",
       "      <td>-52.0267</td>\n",
       "      <td>4.3</td>\n",
       "    </tr>\n",
       "    <tr>\n",
       "      <td>28</td>\n",
       "      <td>Áurea</td>\n",
       "      <td>4301552</td>\n",
       "      <td>-27.6936</td>\n",
       "      <td>-52.0505</td>\n",
       "      <td>5.8</td>\n",
       "    </tr>\n",
       "    <tr>\n",
       "      <td>268</td>\n",
       "      <td>Nicolau Vergueiro</td>\n",
       "      <td>4312674</td>\n",
       "      <td>-28.5298</td>\n",
       "      <td>-52.4676</td>\n",
       "      <td>7.0</td>\n",
       "    </tr>\n",
       "    <tr>\n",
       "      <td>128</td>\n",
       "      <td>Derrubadas</td>\n",
       "      <td>4306320</td>\n",
       "      <td>-27.2642</td>\n",
       "      <td>-53.8645</td>\n",
       "      <td>7.4</td>\n",
       "    </tr>\n",
       "    <tr>\n",
       "      <td>119</td>\n",
       "      <td>Cotiporã</td>\n",
       "      <td>4305959</td>\n",
       "      <td>-28.9891</td>\n",
       "      <td>-51.6971</td>\n",
       "      <td>7.5</td>\n",
       "    </tr>\n",
       "    <tr>\n",
       "      <td>68</td>\n",
       "      <td>Campestre da Serra</td>\n",
       "      <td>4303673</td>\n",
       "      <td>-28.7926</td>\n",
       "      <td>-51.0941</td>\n",
       "      <td>7.6</td>\n",
       "    </tr>\n",
       "    <tr>\n",
       "      <td>476</td>\n",
       "      <td>Vanini</td>\n",
       "      <td>4322558</td>\n",
       "      <td>-28.4758</td>\n",
       "      <td>-51.8447</td>\n",
       "      <td>7.8</td>\n",
       "    </tr>\n",
       "    <tr>\n",
       "      <td>236</td>\n",
       "      <td>Linha Nova</td>\n",
       "      <td>4311643</td>\n",
       "      <td>-29.4679</td>\n",
       "      <td>-51.2003</td>\n",
       "      <td>8.0</td>\n",
       "    </tr>\n",
       "    <tr>\n",
       "      <td>392</td>\n",
       "      <td>São José do Inhacorá</td>\n",
       "      <td>4318499</td>\n",
       "      <td>-27.7251</td>\n",
       "      <td>-54.1275</td>\n",
       "      <td>8.0</td>\n",
       "    </tr>\n",
       "  </tbody>\n",
       "</table>\n",
       "</div>"
      ],
      "text/plain": [
       "                  Município     ibge  latitude  longitude  tx_distorcao\n",
       "490   Vista Alegre do Prata  4323606  -28.8052   -51.7946           2.6\n",
       "375  Santo Antônio do Palma  4317558  -28.4956   -52.0267           4.3\n",
       "28                    Áurea  4301552  -27.6936   -52.0505           5.8\n",
       "268       Nicolau Vergueiro  4312674  -28.5298   -52.4676           7.0\n",
       "128              Derrubadas  4306320  -27.2642   -53.8645           7.4\n",
       "119                Cotiporã  4305959  -28.9891   -51.6971           7.5\n",
       "68       Campestre da Serra  4303673  -28.7926   -51.0941           7.6\n",
       "476                  Vanini  4322558  -28.4758   -51.8447           7.8\n",
       "236              Linha Nova  4311643  -29.4679   -51.2003           8.0\n",
       "392    São José do Inhacorá  4318499  -27.7251   -54.1275           8.0"
      ]
     },
     "execution_count": 7,
     "metadata": {},
     "output_type": "execute_result"
    }
   ],
   "source": [
    "# Municípios com menor taxa de distorção\n",
    "df.nsmallest(10, 'tx_distorcao')"
   ]
  },
  {
   "cell_type": "code",
   "execution_count": 8,
   "metadata": {},
   "outputs": [
    {
     "data": {
      "text/html": [
       "<div>\n",
       "<style scoped>\n",
       "    .dataframe tbody tr th:only-of-type {\n",
       "        vertical-align: middle;\n",
       "    }\n",
       "\n",
       "    .dataframe tbody tr th {\n",
       "        vertical-align: top;\n",
       "    }\n",
       "\n",
       "    .dataframe thead th {\n",
       "        text-align: right;\n",
       "    }\n",
       "</style>\n",
       "<table border=\"1\" class=\"dataframe\">\n",
       "  <thead>\n",
       "    <tr style=\"text-align: right;\">\n",
       "      <th></th>\n",
       "      <th>Município</th>\n",
       "      <th>ibge</th>\n",
       "      <th>latitude</th>\n",
       "      <th>longitude</th>\n",
       "      <th>tx_distorcao</th>\n",
       "    </tr>\n",
       "  </thead>\n",
       "  <tbody>\n",
       "    <tr>\n",
       "      <td>307</td>\n",
       "      <td>Pedras Altas</td>\n",
       "      <td>4314175</td>\n",
       "      <td>-31.7217</td>\n",
       "      <td>-53.5838</td>\n",
       "      <td>56.0</td>\n",
       "    </tr>\n",
       "    <tr>\n",
       "      <td>316</td>\n",
       "      <td>Pinheiro Machado</td>\n",
       "      <td>4314506</td>\n",
       "      <td>-31.5794</td>\n",
       "      <td>-53.3798</td>\n",
       "      <td>53.9</td>\n",
       "    </tr>\n",
       "    <tr>\n",
       "      <td>17</td>\n",
       "      <td>Arambaré</td>\n",
       "      <td>4300851</td>\n",
       "      <td>-30.9093</td>\n",
       "      <td>-51.5046</td>\n",
       "      <td>52.8</td>\n",
       "    </tr>\n",
       "    <tr>\n",
       "      <td>140</td>\n",
       "      <td>Eldorado do Sul</td>\n",
       "      <td>4306767</td>\n",
       "      <td>-30.0847</td>\n",
       "      <td>-51.6187</td>\n",
       "      <td>51.9</td>\n",
       "    </tr>\n",
       "    <tr>\n",
       "      <td>35</td>\n",
       "      <td>Barra do Quaraí</td>\n",
       "      <td>4301875</td>\n",
       "      <td>-30.2029</td>\n",
       "      <td>-57.5497</td>\n",
       "      <td>51.5</td>\n",
       "    </tr>\n",
       "    <tr>\n",
       "      <td>393</td>\n",
       "      <td>São José do Norte</td>\n",
       "      <td>4318507</td>\n",
       "      <td>-32.0151</td>\n",
       "      <td>-52.0331</td>\n",
       "      <td>49.4</td>\n",
       "    </tr>\n",
       "    <tr>\n",
       "      <td>413</td>\n",
       "      <td>São Valério do Sul</td>\n",
       "      <td>4319737</td>\n",
       "      <td>-27.7906</td>\n",
       "      <td>-53.9368</td>\n",
       "      <td>49.2</td>\n",
       "    </tr>\n",
       "    <tr>\n",
       "      <td>193</td>\n",
       "      <td>Hulha Negra</td>\n",
       "      <td>4309654</td>\n",
       "      <td>-31.4067</td>\n",
       "      <td>-53.8667</td>\n",
       "      <td>49.0</td>\n",
       "    </tr>\n",
       "    <tr>\n",
       "      <td>106</td>\n",
       "      <td>Chuí</td>\n",
       "      <td>4305439</td>\n",
       "      <td>-33.6866</td>\n",
       "      <td>-53.4594</td>\n",
       "      <td>48.6</td>\n",
       "    </tr>\n",
       "    <tr>\n",
       "      <td>233</td>\n",
       "      <td>Lavras do Sul</td>\n",
       "      <td>4311502</td>\n",
       "      <td>-30.8071</td>\n",
       "      <td>-53.8931</td>\n",
       "      <td>47.7</td>\n",
       "    </tr>\n",
       "  </tbody>\n",
       "</table>\n",
       "</div>"
      ],
      "text/plain": [
       "              Município     ibge  latitude  longitude  tx_distorcao\n",
       "307        Pedras Altas  4314175  -31.7217   -53.5838          56.0\n",
       "316    Pinheiro Machado  4314506  -31.5794   -53.3798          53.9\n",
       "17             Arambaré  4300851  -30.9093   -51.5046          52.8\n",
       "140     Eldorado do Sul  4306767  -30.0847   -51.6187          51.9\n",
       "35      Barra do Quaraí  4301875  -30.2029   -57.5497          51.5\n",
       "393   São José do Norte  4318507  -32.0151   -52.0331          49.4\n",
       "413  São Valério do Sul  4319737  -27.7906   -53.9368          49.2\n",
       "193         Hulha Negra  4309654  -31.4067   -53.8667          49.0\n",
       "106                Chuí  4305439  -33.6866   -53.4594          48.6\n",
       "233       Lavras do Sul  4311502  -30.8071   -53.8931          47.7"
      ]
     },
     "execution_count": 8,
     "metadata": {},
     "output_type": "execute_result"
    }
   ],
   "source": [
    "# Municípios com maior taxa de distorção\n",
    "df.nlargest(10, 'tx_distorcao')"
   ]
  },
  {
   "cell_type": "code",
   "execution_count": 9,
   "metadata": {},
   "outputs": [
    {
     "data": {
      "text/plain": [
       "<matplotlib.axes._subplots.AxesSubplot at 0x1a194b8a10>"
      ]
     },
     "execution_count": 9,
     "metadata": {},
     "output_type": "execute_result"
    },
    {
     "data": {
      "image/png": "[encoded data removed]",
      "text/plain": [
       "<Figure size 460.8x403.2 with 1 Axes>"
      ]
     },
     "metadata": {},
     "output_type": "display_data"
    }
   ],
   "source": [
    "jtplot.style(theme='grade3')\n",
    "\n",
    "# Plota histograma da taxa de distorção\n",
    "df['tx_distorcao'].plot.hist(bins=100)"
   ]
  },
  {
   "cell_type": "code",
   "execution_count": 10,
   "metadata": {},
   "outputs": [
    {
     "data": {
      "text/plain": [
       "Município       17\n",
       "ibge            17\n",
       "latitude        17\n",
       "longitude       17\n",
       "tx_distorcao    17\n",
       "dtype: int64"
      ]
     },
     "execution_count": 10,
     "metadata": {},
     "output_type": "execute_result"
    }
   ],
   "source": [
    "# Quantidade de municípios com tx_distorcao menor ou igual a 10\n",
    "df[df['tx_distorcao'] <= 10].count()"
   ]
  },
  {
   "cell_type": "code",
   "execution_count": 11,
   "metadata": {},
   "outputs": [
    {
     "data": {
      "text/plain": [
       "Município       17\n",
       "ibge            17\n",
       "latitude        17\n",
       "longitude       17\n",
       "tx_distorcao    17\n",
       "dtype: int64"
      ]
     },
     "execution_count": 11,
     "metadata": {},
     "output_type": "execute_result"
    }
   ],
   "source": [
    "# Quantidade de municípios com tx_distorcao maior ou igual a 45\n",
    "df[df['tx_distorcao'] >= 45].count()"
   ]
  },
  {
   "cell_type": "code",
   "execution_count": 12,
   "metadata": {},
   "outputs": [],
   "source": [
    "# Função para criacão do mapa\n",
    "def generateMap(latitude, longitude, zoom):\n",
    "    return folium.Map(location=[latitude, longitude], zoom_start=zoom)"
   ]
  },
  {
   "cell_type": "code",
   "execution_count": 13,
   "metadata": {},
   "outputs": [
    {
     "data": {
      "text/html": [
       "<div style=\"width:100%;\"><div style=\"position:relative;width:100%;height:0;padding-bottom:60%;\"><iframe src=\"data:text/html;charset=utf-8;base64,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\" style=\"position:absolute;width:100%;height:100%;left:0;top:0;border:none !important;\" allowfullscreen webkitallowfullscreen mozallowfullscreen></iframe></div></div>"
      ],
      "text/plain": [
       "<folium.folium.Map at 0x1a196d5050>"
      ]
     },
     "execution_count": 13,
     "metadata": {},
     "output_type": "execute_result"
    }
   ],
   "source": [
    "# Cria mapa de acordo a uma coordenada central\n",
    "generateMap(-13.7061117, -59.6430883, 4)"
   ]
  },
  {
   "cell_type": "code",
   "execution_count": 14,
   "metadata": {},
   "outputs": [
    {
     "data": {
      "text/html": [
       "<div style=\"width:100%;\"><div style=\"position:relative;width:100%;height:0;padding-bottom:60%;\"><iframe src=\"data:text/html;charset=utf-8;base64,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\" style=\"position:absolute;width:100%;height:100%;left:0;top:0;border:none !important;\" allowfullscreen webkitallowfullscreen mozallowfullscreen></iframe></div></div>"
      ],
      "text/plain": [
       "<folium.folium.Map at 0x1a196b6890>"
      ]
     },
     "execution_count": 14,
     "metadata": {},
     "output_type": "execute_result"
    }
   ],
   "source": [
    "# Cria mapa de acordo as coordenadas do Rio Grande do Sul\n",
    "generateMap(-30.3966211, -52.9130683, 6) # coordenadas do RS google maps"
   ]
  },
  {
   "cell_type": "code",
   "execution_count": 15,
   "metadata": {},
   "outputs": [],
   "source": [
    "# Função que percorre dataframe com base no mapa e condição passada\n",
    "\n",
    "def addMarkersToMap(map_generated, condition, color):\n",
    "    for _, municipio in df[condition].iterrows():\n",
    "        folium.Marker(\n",
    "            location=[municipio['latitude'], municipio['longitude']],\n",
    "            popup=municipio['Município'],\n",
    "            icon=folium.map.Icon(color)\n",
    "        ).add_to(map_generated)"
   ]
  },
  {
   "cell_type": "code",
   "execution_count": 16,
   "metadata": {},
   "outputs": [
    {
     "data": {
      "text/html": [
       "<div style=\"width:100%;\"><div style=\"position:relative;width:100%;height:0;padding-bottom:60%;\"><iframe src=\"data:text/html;charset=utf-8;base64,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\" style=\"position:absolute;width:100%;height:100%;left:0;top:0;border:none !important;\" allowfullscreen webkitallowfullscreen mozallowfullscreen></iframe></div></div>"
      ],
      "text/plain": [
       "<folium.folium.Map at 0x1a196a52d0>"
      ]
     },
     "execution_count": 16,
     "metadata": {},
     "output_type": "execute_result"
    }
   ],
   "source": [
    "# Gera mapa do RS\n",
    "map_rs = generateMap(-29.3966211, -52.9130683, 6) # coordenadas do RS google maps\n",
    "\n",
    "# Adiciona marker na localização das melhores escolas (tx_distorcao <= 10) \n",
    "addMarkersToMap(map_rs, df['tx_distorcao'] <= 10, 'green')\n",
    "\n",
    "map_rs"
   ]
  },
  {
   "cell_type": "code",
   "execution_count": 17,
   "metadata": {},
   "outputs": [
    {
     "data": {
      "text/html": [
       "<div style=\"width:100%;\"><div style=\"position:relative;width:100%;height:0;padding-bottom:60%;\"><iframe src=\"data:text/html;charset=utf-8;base64,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\" style=\"position:absolute;width:100%;height:100%;left:0;top:0;border:none !important;\" allowfullscreen webkitallowfullscreen mozallowfullscreen></iframe></div></div>"
      ],
      "text/plain": [
       "<folium.folium.Map at 0x1a197b4b90>"
      ]
     },
     "execution_count": 17,
     "metadata": {},
     "output_type": "execute_result"
    }
   ],
   "source": [
    "# Gera mapa do RS\n",
    "map_rs = generateMap(-29.3966211, -52.9130683, 6) # coordenadas do RS google maps\n",
    "\n",
    "# Adiciona marker na localização das piores escolas (tx_distorcao >= 45) \n",
    "addMarkersToMap(map_rs, df['tx_distorcao'] >= 45, 'red')\n",
    "\n",
    "map_rs"
   ]
  },
  {
   "cell_type": "code",
   "execution_count": 18,
   "metadata": {},
   "outputs": [
    {
     "data": {
      "text/html": [
       "<div>\n",
       "<style scoped>\n",
       "    .dataframe tbody tr th:only-of-type {\n",
       "        vertical-align: middle;\n",
       "    }\n",
       "\n",
       "    .dataframe tbody tr th {\n",
       "        vertical-align: top;\n",
       "    }\n",
       "\n",
       "    .dataframe thead th {\n",
       "        text-align: right;\n",
       "    }\n",
       "</style>\n",
       "<table border=\"1\" class=\"dataframe\">\n",
       "  <thead>\n",
       "    <tr style=\"text-align: right;\">\n",
       "      <th></th>\n",
       "      <th>Município</th>\n",
       "      <th>ibge</th>\n",
       "      <th>latitude</th>\n",
       "      <th>longitude</th>\n",
       "      <th>tx_distorcao</th>\n",
       "    </tr>\n",
       "  </thead>\n",
       "  <tbody>\n",
       "    <tr>\n",
       "      <td>325</td>\n",
       "      <td>Porto Alegre</td>\n",
       "      <td>4314902</td>\n",
       "      <td>-30.032778</td>\n",
       "      <td>-51.23</td>\n",
       "      <td>32.3</td>\n",
       "    </tr>\n",
       "  </tbody>\n",
       "</table>\n",
       "</div>"
      ],
      "text/plain": [
       "        Município     ibge   latitude  longitude  tx_distorcao\n",
       "325  Porto Alegre  4314902 -30.032778     -51.23          32.3"
      ]
     },
     "execution_count": 18,
     "metadata": {},
     "output_type": "execute_result"
    }
   ],
   "source": [
    "# Qual a taxa de distorção de Porto Alegre\n",
    "df[df['Município'] == 'Porto Alegre']"
   ]
  },
  {
   "cell_type": "code",
   "execution_count": null,
   "metadata": {},
   "outputs": [],
   "source": []
  }
 ],
 "metadata": {
  "kernelspec": {
   "display_name": "Python 3",
   "language": "python",
   "name": "python3"
  },
  "language_info": {
   "codemirror_mode": {
    "name": "ipython",
    "version": 3
   },
   "file_extension": ".py",
   "mimetype": "text/x-python",
   "name": "python",
   "nbconvert_exporter": "python",
   "pygments_lexer": "ipython3",
   "version": "3.7.4"
  }
 },
 "nbformat": 4,
 "nbformat_minor": 2
}
